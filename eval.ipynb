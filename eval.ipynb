{
 "cells": [
  {
   "cell_type": "code",
   "execution_count": 22,
   "metadata": {
    "collapsed": false
   },
   "outputs": [],
   "source": [
    "%reload_ext autoreload\n",
    "%autoreload 2\n",
    "import nvidia_eval\n",
    "import os"
   ]
  },
  {
   "cell_type": "markdown",
   "metadata": {},
   "source": [
    "## Evaluation"
   ]
  },
  {
   "cell_type": "code",
   "execution_count": null,
   "metadata": {
    "collapsed": false,
    "scrolled": true
   },
   "outputs": [
    {
     "name": "stdout",
     "output_type": "stream",
     "text": [
      "Training angle statistics: min=-0.08726646006110003; max=0.2775073647500001; mean=0.018618962050185622; std=0.03490961704587626\n",
      "2016-11-06 11:12:29.501809: No checkpoint found\n"
     ]
    }
   ],
   "source": [
    "NUM_CLASSES = 500\n",
    "NUM_EXAMPLES = 2000\n",
    "OVERFIT_DIR = 'data/overfit'\n",
    "\n",
    "DATA_DIR = '/Volumes/My Passport/udacity-datasets/dataset-20161027-submission/Train/'\n",
    "#dirs = [OVERFIT_DIR]\n",
    "dirs = [os.path.join(DATA_DIR, str(i)) for i in range(21,22)]                \n",
    "                \n",
    "nvidia_eval.evaluate(dirs, num_classes=NUM_CLASSES, num_examples=NUM_EXAMPLES, cameras=['center_camera'],\n",
    "                    interval=360)"
   ]
  },
  {
   "cell_type": "code",
   "execution_count": null,
   "metadata": {
    "collapsed": true
   },
   "outputs": [],
   "source": []
  }
 ],
 "metadata": {
  "anaconda-cloud": {},
  "kernelspec": {
   "display_name": "Python [conda env:tensorflow]",
   "language": "python",
   "name": "conda-env-tensorflow-py"
  },
  "language_info": {
   "codemirror_mode": {
    "name": "ipython",
    "version": 3
   },
   "file_extension": ".py",
   "mimetype": "text/x-python",
   "name": "python",
   "nbconvert_exporter": "python",
   "pygments_lexer": "ipython3",
   "version": "3.5.2"
  }
 },
 "nbformat": 4,
 "nbformat_minor": 1
}
