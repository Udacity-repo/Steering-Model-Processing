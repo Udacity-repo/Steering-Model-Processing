{
 "cells": [
  {
   "cell_type": "code",
   "execution_count": null,
   "metadata": {
    "collapsed": false
   },
   "outputs": [],
   "source": [
    "%reload_ext autoreload\n",
    "%autoreload 2\n",
    "import nvidia_train\n",
    "\n",
    "import os"
   ]
  },
  {
   "cell_type": "markdown",
   "metadata": {},
   "source": [
    "## Training"
   ]
  },
  {
   "cell_type": "code",
   "execution_count": null,
   "metadata": {
    "collapsed": false,
    "scrolled": true
   },
   "outputs": [],
   "source": [
    "BATCH_SIZE = 32\n",
    "NUM_CLASSES = 500\n",
    "#OVERFIT_DIR = 'data/overfit'\n",
    "DATA_DIR = '/Volumes/My Passport/udacity-datasets/dataset-20161027-submission/Train/'\n",
    "\n",
    "'''\n",
    "\"dirs\" is a collection of directories, according to the format of Udacity dataset released in 10/27/2016. \n",
    "Each of them MUST have a interpolated.csv file with data for all cameras. \n",
    "Images for each camera should be in subdirectories specified in .csv file (e.g. 'left', 'center').\n",
    "'''\n",
    "dirs = [os.path.join(DATA_DIR, str(i)) for i in range(2,21)]\n",
    "#dirs = [OVERFIT_DIR]\n",
    "\n",
    "nvidia_train.train(data_dirs=dirs, num_classes=NUM_CLASSES, augment_data=True, dropout=.5, \n",
    "                   cameras=None, save_checkpoint_step=1000)"
   ]
  },
  {
   "cell_type": "code",
   "execution_count": null,
   "metadata": {
    "collapsed": true
   },
   "outputs": [],
   "source": []
  }
 ],
 "metadata": {
  "anaconda-cloud": {},
  "kernelspec": {
   "display_name": "Python [conda env:CarND-TensorFlow-Lab]",
   "language": "python",
   "name": "conda-env-CarND-TensorFlow-Lab-py"
  },
  "language_info": {
   "codemirror_mode": {
    "name": "ipython",
    "version": 3
   },
   "file_extension": ".py",
   "mimetype": "text/x-python",
   "name": "python",
   "nbconvert_exporter": "python",
   "pygments_lexer": "ipython3",
   "version": "3.5.2"
  }
 },
 "nbformat": 4,
 "nbformat_minor": 1
}
