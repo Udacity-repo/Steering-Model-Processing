{
 "cells": [
  {
   "cell_type": "code",
   "execution_count": null,
   "metadata": {
    "collapsed": false
   },
   "outputs": [],
   "source": [
    "import numpy as np\n",
    "import pandas as pd\n",
    "import os\n",
    "import sys\n",
    "from IPython.display import display, Image\n",
    "import pickle\n",
    "from scipy import ndimage, misc\n",
    "import cv2\n",
    "import math\n",
    "import matplotlib.pyplot as plt\n",
    "# Config the matlotlib backend as plotting inline in IPython\n",
    "%matplotlib inline"
   ]
  },
  {
   "cell_type": "markdown",
   "metadata": {},
   "source": [
    "## Getting steering data for each frame"
   ]
  },
  {
   "cell_type": "code",
   "execution_count": null,
   "metadata": {
    "collapsed": false
   },
   "outputs": [],
   "source": [
    "base_dir = '/dev-box/datasets/dataset-20161027/Train/11'\n",
    "interpolated = pd.read_csv(os.path.join(base_dir, 'interpolated.csv'))\n",
    "print(interpolated.angle.max(), interpolated.angle.min(), interpolated.angle.count())"
   ]
  },
  {
   "cell_type": "markdown",
   "metadata": {},
   "source": [
    "## Exploring the steering data"
   ]
  },
  {
   "cell_type": "code",
   "execution_count": null,
   "metadata": {
    "collapsed": false,
    "scrolled": false
   },
   "outputs": [],
   "source": [
    "fig = plt.figure(figsize=(10, 10))\n",
    "fig.add_subplot(311, title='Steering wheel angle')\n",
    "plt.plot(interpolated.timestamp, interpolated.angle)\n",
    "fig.add_subplot(312, title='Speed')\n",
    "plt.plot(interpolated.timestamp, interpolated.speed)\n",
    "fig.add_subplot(313, title='Steering wheel torque')\n",
    "plt.plot(interpolated.timestamp, interpolated.torque)"
   ]
  },
  {
   "cell_type": "markdown",
   "metadata": {},
   "source": [
    "### Finding \"stopped\" intervals\n",
    "\n",
    "Let's consider the vehicle is stopped when we have very low speed."
   ]
  },
  {
   "cell_type": "code",
   "execution_count": null,
   "metadata": {
    "collapsed": false,
    "scrolled": false
   },
   "outputs": [],
   "source": [
    "def get_stopped(data):\n",
    "    #return data.speed < .5 * (data.speed.mean() - data.speed.std()) # & (abs(ts_center.steering_wheel_torque) < .1)\n",
    "    return data.speed < 3.\n",
    "\n",
    "stopped = get_stopped(interpolated)\n",
    "\n",
    "fig = plt.figure(figsize=(10, 3))\n",
    "\n",
    "#fig.add_subplot(311)\n",
    "plt.plot(interpolated.timestamp, stopped)\n",
    "ax = plt.axis()\n",
    "plt.axis((ax[0], ax[1], ax[2], 1.2))\n",
    "\n",
    "stopped.head()"
   ]
  },
  {
   "cell_type": "markdown",
   "metadata": {},
   "source": [
    "### Finding sharp turns\n",
    "\n",
    "Sharp turns are characterized by high_angles | (high_torque & low_speed)."
   ]
  },
  {
   "cell_type": "code",
   "execution_count": null,
   "metadata": {
    "collapsed": false
   },
   "outputs": [],
   "source": [
    "# some statistics\n",
    "steering_wheel_angle_mean = steering.steering_wheel_angle.mean()\n",
    "steering_wheel_angle_std = steering.steering_wheel_angle.std()\n",
    "steering_wheel_torque_mean = steering.steering_wheel_torque.mean()\n",
    "steering_wheel_torque_std = steering.steering_wheel_torque.std()\n",
    "speed_mean = steering.speed.mean()\n",
    "speed_std = steering.speed.std()\n",
    "print('Steering angle mean: {0:.3f} +/- {1:.3f}'.format(steering_wheel_angle_mean, steering_wheel_angle_std))\n",
    "print('Steering torque mean: {0:.3f} +/- {1:.3f}'.format(steering_wheel_torque_mean, steering_wheel_torque_std))\n",
    "print('Speed mean: {0:.3f} +/- {1:.3f}'.format(speed_mean, speed_std))"
   ]
  },
  {
   "cell_type": "code",
   "execution_count": null,
   "metadata": {
    "collapsed": false
   },
   "outputs": [],
   "source": [
    "def get_sharp_turns(data):\n",
    "    high_angles = abs(data.angle) > 0.5\n",
    "    return high_angles\n",
    "\n",
    "sharp = get_sharp_turns(interpolated)\n",
    "#sharp_left = get_sharp_turns(ts_left)\n",
    "#sharp_right = get_sharp_turns(ts_right)\n",
    "\n",
    "fig = plt.figure(figsize=(10, 3))\n",
    "#fig.add_subplot(311)\n",
    "plt.plot(interpolated.index, sharp)\n",
    "ax = plt.axis()\n",
    "plt.axis((ax[0], ax[1], ax[2], 1.2))\n",
    "\n",
    "'left' in str(interpolated.frame_id.values[0])"
   ]
  },
  {
   "cell_type": "markdown",
   "metadata": {},
   "source": [
    "### Frames to exclude\n",
    "\n",
    "Since we are only interested in following lanes, we exclude sharp turns and stopped frames."
   ]
  },
  {
   "cell_type": "code",
   "execution_count": null,
   "metadata": {
    "collapsed": false
   },
   "outputs": [],
   "source": [
    "exclude_center = stopped_center | sharp_center\n",
    "exclude_right = stopped_right | sharp_right\n",
    "exclude_left = stopped_left | sharp_left\n",
    "\n",
    "fig = plt.figure(figsize=(10, 8))\n",
    "fig.add_subplot(311)\n",
    "plt.plot(ts_center.index, exclude_center)\n",
    "ax = plt.axis()\n",
    "plt.axis((ax[0], ax[1], ax[2], 1.2))\n",
    "\n",
    "fig.add_subplot(312)\n",
    "plt.plot(ts_left.index, exclude_left)\n",
    "ax = plt.axis()\n",
    "plt.axis((ax[0], ax[1], ax[2], 1.2))\n",
    "\n",
    "fig.add_subplot(313)\n",
    "plt.plot(ts_right.index, exclude_right)\n",
    "ax = plt.axis()\n",
    "plt.axis((ax[0], ax[1], ax[2], 1.2))"
   ]
  },
  {
   "cell_type": "markdown",
   "metadata": {},
   "source": [
    "### Filtered frames"
   ]
  },
  {
   "cell_type": "code",
   "execution_count": null,
   "metadata": {
    "collapsed": false
   },
   "outputs": [],
   "source": [
    "fig = plt.figure(figsize=(10, 14))\n",
    "print(ts_center.shape, ts_center[include_center].shape)\n",
    "\n",
    "filtered_center = ts_center[~exclude_center]\n",
    "filtered_left = ts_left[~exclude_left]\n",
    "filtered_right = ts_right[~exclude_right]\n",
    "#filtered_center.reset_index(inplace=True)\n",
    "\n",
    "fig.add_subplot(411, title='Original steering wheel angle')\n",
    "plt.plot(ts_center.index, ts_center.steering_wheel_angle)\n",
    "fig.add_subplot(412, title='Steering wheel angle')\n",
    "plt.plot(range(filtered_center.shape[0]), filtered_center.steering_wheel_angle)\n",
    "fig.add_subplot(413, title='Speed')\n",
    "plt.plot(range(filtered_center.shape[0]), filtered_center.speed)\n",
    "fig.add_subplot(414, title='Steering wheel torque')\n",
    "plt.plot(range(filtered_center.shape[0]), filtered_center.steering_wheel_torque)"
   ]
  },
  {
   "cell_type": "markdown",
   "metadata": {},
   "source": [
    "# Image processing\n",
    "\n",
    "\n",
    "## Show random images from cameras\n",
    "\n",
    "Assuming images are already extracted from rosbag file."
   ]
  },
  {
   "cell_type": "code",
   "execution_count": null,
   "metadata": {
    "collapsed": false
   },
   "outputs": [],
   "source": [
    "image_folders = ['data/left_camera', 'data/center_camera', 'data/right_camera']\n",
    "\n",
    "fig = plt.figure(figsize=(12, 10))\n",
    "choice = np.random.choice(os.listdir(image_folders[i]))\n",
    "\n",
    "for i in range(len(image_folders)):    \n",
    "    img = cv2.imread(os.path.join(image_folders[i], choice))\n",
    "    img = cv2.cvtColor(img, cv2.COLOR_BGR2RGB)\n",
    "    fig.add_subplot(1, 3, i+1)\n",
    "    plt.imshow(img)\n",
    "    #display(Image(os.path.join(image_folders[i], np.random.choice(os.listdir(image_folders[i])))))"
   ]
  },
  {
   "cell_type": "markdown",
   "metadata": {},
   "source": [
    "## Dataset preparation\n",
    "\n",
    "Steps:\n",
    "* Read image\n",
    "* Convert colorspace to YUV\n",
    "* Generate new transformed images and labels\n",
    "* Resize images\n",
    "* Serialize to TFRecord"
   ]
  },
  {
   "cell_type": "code",
   "execution_count": null,
   "metadata": {
    "collapsed": false
   },
   "outputs": [],
   "source": [
    "import numpy as np\n",
    "import tensorflow as tf\n",
    "import augmentation as aug\n",
    "from tqdm import tnrange, tqdm_notebook\n",
    "\n",
    "def create_example(image, data, colorspace):\n",
    "    \n",
    "    feature = {}\n",
    "    \n",
    "    feature['steering_angle'] = tf.train.Feature(\n",
    "            float_list=tf.train.FloatList(value=[data.get('steering_wheel_angle')]))\n",
    "    \n",
    "    feature['timestamp'] = tf.train.Feature(\n",
    "            float_list=tf.train.FloatList(value=[data.get('timestamp')]))\n",
    "    \n",
    "    feature['shift'] = tf.train.Feature(\n",
    "            float_list=tf.train.FloatList(value=[data.get('shift')]))\n",
    "        \n",
    "    if data.get('steering_wheel_torque'):\n",
    "        feature['steering_torque'] = tf.train.Feature(\n",
    "                float_list=tf.train.FloatList(value=[data.get('steering_wheel_torque')]))\n",
    "        \n",
    "    if data.get('speed'):\n",
    "        feature['speed'] = tf.train.Feature(\n",
    "                float_list=tf.train.FloatList(value=[data.get('speed')]))\n",
    "        \n",
    "    feature['image/height'] = tf.train.Feature(\n",
    "            int64_list=tf.train.Int64List(value=[image.shape[0]]))\n",
    "    \n",
    "    feature['image/width'] = tf.train.Feature(\n",
    "            int64_list=tf.train.Int64List(value=[image.shape[1]]))\n",
    "    \n",
    "    feature['image/channels'] = tf.train.Feature(\n",
    "            int64_list=tf.train.Int64List(value=[image.shape[2]]))\n",
    "    \n",
    "    feature['image/colorspace'] = tf.train.Feature(\n",
    "            bytes_list=tf.train.BytesList(value=[colorspace]))\n",
    "    \n",
    "    feature['image'] = tf.train.Feature(\n",
    "            bytes_list=tf.train.BytesList(value=[image.tostring()]))\n",
    "    \n",
    "    # construct the Example proto object\n",
    "    example = tf.train.Example(\n",
    "        # Example contains a Features proto object\n",
    "        features=tf.train.Features(\n",
    "          # Features contains a map of string to Feature proto objects\n",
    "          feature=feature\n",
    "    ))\n",
    "    \n",
    "    return example\n",
    "\n",
    "def create_transformed_example(image, data, colorspace, rotation=None, shift=None, initial_shift=0, \n",
    "                               width=None, height=None):\n",
    "    \n",
    "    '''transformed, steering_wheel_angle, r, s = aug.steer_back_distortion(image, \n",
    "                                                                        data.steering_wheel_angle, \n",
    "                                                                        data.speed,\n",
    "                                                                        rotation=rotation, shift=shift,\n",
    "                                                                        initial_shift=initial_shift\n",
    "                                                                       )'''\n",
    "    transformed_data = {\n",
    "        'steering_wheel_angle': data.steering_wheel_angle,\n",
    "        'speed': data.speed,\n",
    "        'timestamp': data.timestamp,\n",
    "        'shift': initial_shift\n",
    "    }\n",
    "\n",
    "    #if width and height:\n",
    "    #    transformed = cv2.resize(transformed,(width, height))\n",
    "\n",
    "    return create_example(transformed, transformed_data, image_colorspace)\n",
    "\n",
    "\n",
    "image_width_small = 200\n",
    "image_height_small = 90\n",
    "image_channels = 3\n",
    "image_colorspace = b'YUV'\n",
    "\n",
    "filtered_idx = [filtered_left.index, filtered_center.index, filtered_right.index]\n",
    "steering_files = ['data/dataset-20160929/left_steering.csv', \n",
    "                  'data/dataset-20160929/center_steering.csv', \n",
    "                  'data/dataset-20160929/right_steering.csv']\n",
    "image_folders = ['data/dataset-20160929/left_camera', \n",
    "                 'data/dataset-20160929/center_camera', \n",
    "                 'data/dataset-20160929/right_camera']\n",
    "initial_shifts = [-.5, 0, .5]\n",
    "#augmentation_factor = 1\n",
    "images_per_file = 2000\n",
    "\n",
    "for i in tnrange(len(image_folders)):\n",
    "    \n",
    "    folder = image_folders[i]\n",
    "    \n",
    "    image_files = os.listdir(folder)\n",
    "    idxs = np.array(filtered_idx[i])\n",
    "    #idxs = np.random.choice(len(image_files), 20)\n",
    "    \n",
    "    steering = pd.read_csv(steering_files[i])\n",
    "    \n",
    "    # iterate over each example\n",
    "    # wrap with tqdm for a progress bar\n",
    "    file_count = math.ceil(len(idxs) / images_per_file)\n",
    "    \n",
    "    for j in tnrange(file_count):\n",
    "        \n",
    "        filename = '{}@{}x{}_{}.tfrecords'.format(folder, image_height_small, image_width_small, j)\n",
    "        writer = tf.python_io.TFRecordWriter(filename)\n",
    "        \n",
    "        images_in_file = images_per_file\n",
    "        \n",
    "        if (len(idxs) - j * images_per_file) < images_per_file:\n",
    "            images_in_file = len(idxs) % images_per_file\n",
    "        \n",
    "        for k in tnrange(images_in_file):\n",
    "        \n",
    "            example_idx = idxs[j * images_per_file + k]\n",
    "            \n",
    "            try:\n",
    "                img = cv2.imread(os.path.join(folder, image_files[example_idx]))\n",
    "                img = cv2.cvtColor(img, cv2.COLOR_BGR2YUV)\n",
    "            except:\n",
    "                print('Could not read:', os.path.join(folder, image_files[example_idx]), '- it\\'s ok, skipping.')\n",
    "                continue\n",
    "            \n",
    "            data = steering.iloc[example_idx]\n",
    "\n",
    "            example = create_transformed_example(img, data, image_colorspace, initial_shift=initial_shifts[i],\n",
    "                                                 rotation=0, shift=0)\n",
    "\n",
    "            # use the proto object to serialize the example to a string\n",
    "            serialized = example.SerializeToString()\n",
    "\n",
    "            # write the serialized object to disk\n",
    "            writer.write(serialized)\n",
    "            \n",
    "            '''for k in range(augmentation_factor-1):\n",
    "                \n",
    "                example = create_transformed_example(img, data, image_colorspace, initial_shift=initial_shifts[i], \n",
    "                               width=image_width_small, height=image_height_small)\n",
    "                serialized = example.SerializeToString()\n",
    "\n",
    "                writer.write(serialized)'''\n",
    "                \n",
    "        writer.close()\n",
    "    "
   ]
  },
  {
   "cell_type": "markdown",
   "metadata": {},
   "source": [
    "## Check images"
   ]
  },
  {
   "cell_type": "code",
   "execution_count": null,
   "metadata": {
    "collapsed": false
   },
   "outputs": [],
   "source": [
    "i = 0\n",
    "data_dir = 'data/eval'\n",
    "files = [os.path.join(data_dir, f) for f in os.listdir(data_dir) if f.endswith('.tfrecords')]\n",
    "print(files)\n",
    "for serialized_example in tf.python_io.tf_record_iterator(files[0]):\n",
    "    \n",
    "    example = tf.train.Example()\n",
    "    example.ParseFromString(serialized_example)\n",
    "    \n",
    "    # traverse the Example format to get data\n",
    "    height = example.features.feature['image/height'].int64_list.value[0]\n",
    "    width = example.features.feature['image/width'].int64_list.value[0]\n",
    "    channels = example.features.feature['image/channels'].int64_list.value[0]\n",
    "    image = example.features.feature['image'].bytes_list.value[0]\n",
    "    image = np.fromstring(image, np.uint8)\n",
    "    image = np.asarray(image)\n",
    "    image = image.reshape(height, width, channels)\n",
    "    #steering = example.features.feature['steering_angle'].float_list.value[0]\n",
    "    \n",
    "    if i < 10:\n",
    "        fig = plt.figure()\n",
    "        plt.imshow(image)\n",
    "        #print(steering)\n",
    "    i = i + 1"
   ]
  },
  {
   "cell_type": "code",
   "execution_count": null,
   "metadata": {
    "collapsed": true
   },
   "outputs": [],
   "source": []
  }
 ],
 "metadata": {
  "anaconda-cloud": {},
  "kernelspec": {
   "display_name": "Python [conda env:CarND-TensorFlow-Lab]",
   "language": "python",
   "name": "conda-env-CarND-TensorFlow-Lab-py"
  },
  "language_info": {
   "codemirror_mode": {
    "name": "ipython",
    "version": 3
   },
   "file_extension": ".py",
   "mimetype": "text/x-python",
   "name": "python",
   "nbconvert_exporter": "python",
   "pygments_lexer": "ipython3",
   "version": "3.5.2"
  }
 },
 "nbformat": 4,
 "nbformat_minor": 1
}
